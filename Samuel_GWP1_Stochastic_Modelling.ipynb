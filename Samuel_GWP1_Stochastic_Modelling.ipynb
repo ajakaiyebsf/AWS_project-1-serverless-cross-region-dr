{
  "cells": [
    {
      "cell_type": "markdown",
      "metadata": {
        "id": "view-in-github",
        "colab_type": "text"
      },
      "source": [
        "<a href=\"https://colab.research.google.com/github/ajakaiyebsf/AWS_project-1-serverless-cross-region-dr/blob/main/Samuel_GWP1_Stochastic_Modelling.ipynb\" target=\"_parent\"><img src=\"https://colab.research.google.com/assets/colab-badge.svg\" alt=\"Open In Colab\"/></a>"
      ]
    },
    {
      "cell_type": "code",
      "execution_count": 1,
      "metadata": {
        "id": "P0EgyuW_r3uB"
      },
      "outputs": [],
      "source": [
        "import numpy as np\n",
        "import pandas as pd\n",
        "from scipy.integrate import quad\n",
        "from scipy.optimize import minimize\n",
        "from scipy.interpolate import CubicSpline\n",
        "import warnings\n",
        "from io import StringIO\n",
        "import matplotlib.pyplot as plt\n",
        "import seaborn as sns\n",
        "\n",
        "# Suppress integration warnings for cleaner output\n",
        "warnings.filterwarnings(\"ignore\", category=UserWarning)\n",
        "\n",
        "# --- General Setup & Market Data ---\n",
        "S0 = 232.90\n",
        "r = 0.015\n",
        "TRADING_DAYS = 250\n",
        "\n",
        "# Provided market data for SM Energy options\n",
        "option_data_raw = \"\"\"Days to maturity,Strike,Price,Type\n",
        "15,227.5,10.52,C\n",
        "15,230,10.05,C\n",
        "15,232.5,7.75,C\n",
        "15,235,6.01,C\n",
        "15,237.5,4.75,C\n",
        "60,227.5,16.78,C\n",
        "60,230,17.65,C\n",
        "60,232.5,16.86,C\n",
        "60,235,16.05,C\n",
        "60,237.5,15.1,C\n",
        "15,227.5,4.32,P\n",
        "15,230,5.2,P\n",
        "15,232.5,6.45,P\n",
        "15,235,7.56,P\n",
        "15,237.5,8.78,P\n",
        "60,227.5,11.03,P\n",
        "60,230,12.15,P\n",
        "60,232.5,13.37,P\n",
        "60,235,14.75,P\n",
        "60,237.5,15.62,P\n",
        "\"\"\"\n",
        "df_options = pd.read_csv(StringIO(option_data_raw))\n",
        "\n",
        "# Euribor Data\n",
        "euribor_data = {\n",
        "    'Maturity': np.array([1/52, 1/12, 3/12, 6/12, 1]), # In years\n",
        "    'Rate': np.array([0.03847, 0.03845, 0.03928, 0.03822, 0.03693])\n",
        "}\n",
        "\n",
        "# Set plot style for better visuals\n",
        "sns.set_style(\"whitegrid\")"
      ]
    },
    {
      "cell_type": "code",
      "execution_count": 2,
      "metadata": {
        "colab": {
          "base_uri": "https://localhost:8080/"
        },
        "id": "i6Jz8wtUvuhV",
        "outputId": "da024bd0-bb12-4118-cfdc-ee6ba87b586d"
      },
      "outputs": [
        {
          "output_type": "stream",
          "name": "stdout",
          "text": [
            "--- Heston Calibration Results (Team A) ---\n",
            "  kappa (Mean-Reversion Speed): 10.0000\n",
            "  theta (Long-Term Variance):   0.0631 (Implied Vol: 25.11%)\n",
            "  sigma (Volatility of Var):    0.4164\n",
            "  rho (Correlation):            -0.9756\n",
            "  v0 (Initial Variance):        0.0263 (Implied Vol: 16.23%)\n",
            "\n",
            "Final Minimized MSE: 0.247473\n"
          ]
        }
      ],
      "source": [
        "# --- Heston Model Functions ---\n",
        "def heston_char_func(u, T, r, kappa, theta, sigma, rho, v0):\n",
        "    \"\"\"Heston characteristic function f2 from Lewis (2001)\"\"\"\n",
        "    i = 1j\n",
        "    lambda_val = np.sqrt(sigma**2 * (u**2 + i*u) + (kappa - i*rho*sigma*u)**2)\n",
        "    omega = np.exp(i*u*r*T + (v0/sigma**2)*(kappa - i*rho*sigma*u - lambda_val) * ((1 - np.exp(-lambda_val*T))/(1 - np.exp(-lambda_val*T))))\n",
        "    C = (kappa*theta/sigma**2) * ((kappa - i*rho*sigma*u - lambda_val)*T - 2*np.log((1 - np.exp(-lambda_val*T))/(1 - np.exp(-lambda_val*T))))\n",
        "    return omega * np.exp(C)\n",
        "\n",
        "def heston_pricer_lewis(S0, K, T, r, kappa, theta, sigma, rho, v0):\n",
        "    \"\"\"Prices a European Call Option using the Heston model via Lewis (2001)\"\"\"\n",
        "    i = 1j\n",
        "    integrand = lambda u: np.real(np.exp(-i*u*np.log(K/S0)) * heston_char_func(u-i/2, T, r, kappa, theta, sigma, rho, v0) / (u**2 + 1/4))\n",
        "    integral = quad(integrand, 0, 100)[0]\n",
        "    return S0 - (np.sqrt(S0*K) * np.exp(-r*T) / np.pi) * integral\n",
        "\n",
        "def heston_mse_objective(params, data, S0, r):\n",
        "    \"\"\"Objective function (MSE) for Heston calibration.\"\"\"\n",
        "    kappa, theta, sigma, rho, v0 = params\n",
        "    if not (kappa > 0 and theta > 0 and sigma > 0 and -1 < rho < 1 and v0 > 0): return 1e9\n",
        "    T = data['Days to maturity'].iloc[0] / TRADING_DAYS\n",
        "    squared_errors = []\n",
        "    for _, row in data.iterrows():\n",
        "        K, market_price, opt_type = row['Strike'], row['Price'], row['Type']\n",
        "        model_call_price = heston_pricer_lewis(S0, K, T, r, kappa, theta, sigma, rho, v0)\n",
        "        model_price = model_call_price if opt_type == 'C' else model_call_price - S0 + K * np.exp(-r * T)\n",
        "        squared_errors.append((model_price - market_price)**2)\n",
        "    return np.mean(squared_errors)\n",
        "\n",
        "# --- Calibration Execution ---\n",
        "data_15d = df_options[df_options['Days to maturity'] == 15].copy()\n",
        "initial_params_heston = [3.0, 0.1, 0.9, -0.7, 0.09]\n",
        "bounds_heston = [(1e-3, 10), (1e-3, 1), (1e-3, 2), (-0.99, 0), (1e-3, 1)]\n",
        "result_heston = minimize(heston_mse_objective, initial_params_heston, args=(data_15d, S0, r), method='L-BFGS-B', bounds=bounds_heston)\n",
        "kappa_h, theta_h, sigma_h, rho_h, v0_h = result_heston.x\n",
        "\n",
        "print(\"--- Heston Calibration Results (Team A) ---\")\n",
        "print(f\"  kappa (Mean-Reversion Speed): {kappa_h:.4f}\")\n",
        "print(f\"  theta (Long-Term Variance):   {theta_h:.4f} (Implied Vol: {np.sqrt(theta_h):.2%})\")\n",
        "print(f\"  sigma (Volatility of Var):    {sigma_h:.4f}\")\n",
        "print(f\"  rho (Correlation):            {rho_h:.4f}\")\n",
        "print(f\"  v0 (Initial Variance):        {v0_h:.4f} (Implied Vol: {np.sqrt(v0_h):.2%})\")\n",
        "print(f\"\\nFinal Minimized MSE: {result_heston.fun:.6f}\")"
      ]
    },
    {
      "cell_type": "code",
      "source": [
        "# --- Plotting the Calibration Fit ---\n",
        "market_prices = []\n",
        "model_prices = []\n",
        "strikes = []\n",
        "T_15d = 15 / TRADING_DAYS\n",
        "for _, row in data_15d.iterrows():\n",
        "    K, market_price, opt_type = row['Strike'], row['Price'], row['Type']\n",
        "    model_call = heston_pricer_lewis(S0, K, T_15d, r, kappa_h, theta_h, sigma_h, rho_h, v0_h)\n",
        "    model_prices.append(model_call if opt_type == 'C' else model_call - S0 + K * np.exp(-r * T_15d))\n",
        "    market_prices.append(market_price)\n",
        "    strikes.append(K)\n",
        "\n",
        "plt.figure(figsize=(10, 6))\n",
        "plt.scatter(strikes, market_prices, label='Market Prices', color='blue', zorder=5)\n",
        "plt.scatter(strikes, model_prices, label='Heston Model Prices', color='red', marker='x', s=100, zorder=5)\n",
        "plt.title('Heston Model Fit to 15-Day Market Prices')\n",
        "plt.xlabel('Strike Price (K)')\n",
        "plt.ylabel('Option Price')\n",
        "plt.legend()\n",
        "plt.grid(True)\n",
        "plt.show()"
      ],
      "metadata": {
        "colab": {
          "base_uri": "https://localhost:8080/",
          "height": 564
        },
        "id": "s0kceAeS0gHa",
        "outputId": "9b689411-bb72-4384-a5f5-42ff9eef7bcb"
      },
      "execution_count": 3,
      "outputs": [
        {
          "output_type": "display_data",
          "data": {
            "text/plain": [
              "<Figure size 1000x600 with 1 Axes>"
            ],
            "image/png": "[encoded data removed]"
          },
          "metadata": {}
        }
      ]
    },
    {
      "cell_type": "code",
      "source": [
        "def heston_mc_asian(S0, K, T, r, kappa, theta, sigma, rho, v0, n_sims, n_steps):\n",
        "    \"\"\"Prices an Asian option using Heston Monte Carlo.\"\"\"\n",
        "    dt = T / n_steps\n",
        "    rand_S = np.random.standard_normal((n_sims, n_steps))\n",
        "    rand_v = rho * rand_S + np.sqrt(1 - rho**2) * np.random.standard_normal((n_sims, n_steps))\n",
        "    S = np.zeros((n_sims, n_steps + 1)); S[:, 0] = S0\n",
        "    v = np.zeros((n_sims, n_steps + 1)); v[:, 0] = v0\n",
        "\n",
        "    for t in range(n_steps):\n",
        "        v_t = np.maximum(v[:, t], 0) # Ensure variance is non-negative\n",
        "        S[:, t+1] = S[:, t] * np.exp((r - 0.5 * v_t) * dt + np.sqrt(v_t * dt) * rand_S[:, t])\n",
        "        v[:, t+1] = v[:, t] + kappa * (theta - v_t) * dt + sigma * np.sqrt(v_t * dt) * rand_v[:, t]\n",
        "\n",
        "    avg_price = np.mean(S, axis=1)\n",
        "    payoffs = np.maximum(avg_price - K, 0)\n",
        "    price = np.mean(payoffs) * np.exp(-r * T)\n",
        "    return price\n",
        "\n",
        "\n",
        "\n",
        "# --- Pricing Execution ---\n",
        "K_asian = S0\n",
        "T_asian = 20 / TRADING_DAYS\n",
        "\n",
        "# By setting a seed, we make the random simulation reproducible\n",
        "np.random.seed(0)\n",
        "\n",
        "fair_price_asian = heston_mc_asian(S0, K_asian, T_asian, r, kappa_h, theta_h, sigma_h, rho_h, v0_h, n_sims=100000, n_steps=20)\n",
        "fee = fair_price_asian * 0.04\n",
        "client_price_asian = fair_price_asian + fee\n",
        "\n",
        "print(\"--- ATM Asian Call Option Pricing Results (Reproducible) ---\")\n",
        "print(f\"Fair Price of Asian Option: ${fair_price_asian:.2f}\")\n",
        "print(f\"4% Fee: ${fee:.2f}\")\n",
        "print(f\"Final Client Price: ${client_price_asian:.2f}\")"
      ],
      "metadata": {
        "colab": {
          "base_uri": "https://localhost:8080/"
        },
        "id": "vs5tlg-A7IgY",
        "outputId": "d30c17ee-5dd2-4c90-ce9a-04c06b23aec0"
      },
      "execution_count": 4,
      "outputs": [
        {
          "output_type": "stream",
          "name": "stdout",
          "text": [
            "--- ATM Asian Call Option Pricing Results (Reproducible) ---\n",
            "Fair Price of Asian Option: $2.75\n",
            "4% Fee: $0.11\n",
            "Final Client Price: $2.86\n"
          ]
        }
      ]
    },
    {
      "cell_type": "code",
      "source": [
        "\n",
        "# --- Bates Model Functions ---\n",
        "def bates_char_func(u, T, r, kappa, theta, sigma, rho, v0, lam, mu_j, sigma_j):\n",
        "    \"\"\"Characteristic function for the Bates (1996) model.\"\"\"\n",
        "    i = 1j\n",
        "    heston_cf = heston_char_func(u, T, r, kappa, theta, sigma, rho, v0)\n",
        "    compensator = lam * (np.exp(i * u * mu_j - 0.5 * (u * sigma_j)**2) - 1)\n",
        "    return heston_cf * np.exp(T * compensator)\n",
        "\n",
        "def bates_pricer_lewis(S0, K, T, r, kappa, theta, sigma, rho, v0, lam, mu_j, sigma_j):\n",
        "    \"\"\"Prices a European Call Option using the Bates model.\"\"\"\n",
        "    i = 1j\n",
        "    drift_adj = lam * (np.exp(mu_j + 0.5 * sigma_j**2) - 1)\n",
        "    S0_adj = S0 * np.exp(-drift_adj * T)\n",
        "    integrand = lambda u: np.real(np.exp(-i*u*np.log(K/S0_adj)) * bates_char_func(u-i/2, T, r, kappa, theta, sigma, rho, v0, lam, mu_j, sigma_j) / (u**2 + 1/4))\n",
        "    integral = quad(integrand, 0, 100)[0]\n",
        "    return S0_adj - (np.sqrt(S0_adj*K) * np.exp(-r*T) / np.pi) * integral\n",
        "\n",
        "def bates_mse_objective(params, data, S0, r):\n",
        "    \"\"\"Objective function (MSE) for Bates calibration.\"\"\"\n",
        "    kappa, theta, sigma, rho, v0, lam, mu_j, sigma_j = params\n",
        "    if not (kappa>0 and theta>0 and sigma>0 and -1<rho<1 and v0>0 and lam>0 and sigma_j>0): return 1e9\n",
        "    T = data['Days to maturity'].iloc[0] / TRADING_DAYS\n",
        "    drift_adj = lam * (np.exp(mu_j + 0.5 * sigma_j**2) - 1)\n",
        "    squared_errors = []\n",
        "    for _, row in data.iterrows():\n",
        "        K, market_price, opt_type = row['Strike'], row['Price'], row['Type']\n",
        "        model_call = bates_pricer_lewis(S0, K, T, r, *params)\n",
        "        model_price = model_call if opt_type == 'C' else model_call - S0 * np.exp(-drift_adj * T) + K * np.exp(-r*T)\n",
        "        squared_errors.append((model_price - market_price)**2)\n",
        "    return np.mean(squared_errors)\n",
        "\n",
        "# --- Calibration Execution ---\n",
        "data_60d = df_options[df_options['Days to maturity'] == 60].copy()\n",
        "initial_params_bates = [3.5, 0.1, 0.8, -0.6, 0.1, 0.5, -0.1, 0.1]\n",
        "bounds_bates = [(1e-3,10), (1e-3,1), (1e-3,2), (-0.99,0), (1e-3,1), (1e-3,2), (-0.5,0.5), (1e-3,0.5)]\n",
        "result_bates = minimize(bates_mse_objective, initial_params_bates, args=(data_60d, S0, r), method='L-BFGS-B', bounds=bounds_bates)\n",
        "kappa_b, theta_b, sigma_b, rho_b, v0_b, lam_b, mu_j_b, sigma_j_b = result_bates.x\n",
        "\n",
        "print(\"--- Bates Calibration Results (Team C) ---\")\n",
        "print(f\"Calibrated Heston Parameters: kappa={kappa_b:.3f}, theta={theta_b:.3f}, sigma={sigma_b:.3f}, rho={rho_b:.3f}, v0={v0_b:.3f}\")\n",
        "print(f\"Calibrated Jump Parameters:\")\n",
        "print(f\"  lambda (Jump Intensity): {lam_b:.4f}\")\n",
        "print(f\"  mu_j (Mean Jump Size):   {mu_j_b:.4f}\")\n",
        "print(f\"  sigma_j (Jump Vol):      {sigma_j_b:.4f}\")"
      ],
      "metadata": {
        "id": "3_f5gCEfM17Y",
        "colab": {
          "base_uri": "https://localhost:8080/"
        },
        "outputId": "030fe43b-613f-46c2-97fb-7f8fba7a2b98"
      },
      "execution_count": 5,
      "outputs": [
        {
          "output_type": "stream",
          "name": "stdout",
          "text": [
            "--- Bates Calibration Results (Team C) ---\n",
            "Calibrated Heston Parameters: kappa=2.026, theta=0.001, sigma=0.001, rho=0.000, v0=0.045\n",
            "Calibrated Jump Parameters:\n",
            "  lambda (Jump Intensity): 1.8964\n",
            "  mu_j (Mean Jump Size):   -0.0176\n",
            "  sigma_j (Jump Vol):      0.0010\n"
          ]
        }
      ]
    },
    {
      "cell_type": "code",
      "source": [
        "import numpy as np\n",
        "import pandas as pd\n",
        "from scipy.integrate import quad\n",
        "from scipy.optimize import minimize\n",
        "from io import StringIO\n",
        "\n",
        "# --- Model Functions (Re-stated for clarity) ---\n",
        "\n",
        "# Heston (1993) characteristic function, a component of the Bates model\n",
        "def heston_char_func(u, T, r, kappa, theta, sigma, rho, v0):\n",
        "    i = 1j\n",
        "    lambda_val = np.sqrt(sigma**2 * (u**2 + i*u) + (kappa - i*rho*sigma*u)**2)\n",
        "    omega = np.exp(i*u*r*T + (v0/sigma**2)*(kappa - i*rho*sigma*u - lambda_val) * ((1 - np.exp(-lambda_val*T))/(1 - np.exp(-lambda_val*T))))\n",
        "    C = (kappa*theta/sigma**2) * ((kappa - i*rho*sigma*u - lambda_val)*T - 2*np.log((1 - np.exp(-lambda_val*T))/(1 - np.exp(-lambda_val*T))))\n",
        "    return omega * np.exp(C)\n",
        "\n",
        "# Bates (1996) characteristic function adds the jump component\n",
        "def bates_char_func(u, T, r, kappa, theta, sigma, rho, v0, lam, mu_j, sigma_j):\n",
        "    i = 1j\n",
        "    heston_cf = heston_char_func(u, T, r, kappa, theta, sigma, rho, v0)\n",
        "    compensator = lam * (np.exp(i * u * mu_j - 0.5 * (u * sigma_j)**2) - 1)\n",
        "    return heston_cf * np.exp(T * compensator)\n",
        "\n",
        "# Generic analytical pricer based on the characteristic function, consistent with Lewis (2001)\n",
        "def bates_pricer_lewis(S0, K, T, r, kappa, theta, sigma, rho, v0, lam, mu_j, sigma_j):\n",
        "    i = 1j\n",
        "    drift_adj = lam * (np.exp(mu_j + 0.5 * sigma_j**2) - 1)\n",
        "    S0_adj = S0 * np.exp(-drift_adj * T)\n",
        "    integrand = lambda u: np.real(np.exp(-i*u*np.log(K/S0_adj)) * bates_char_func(u-i/2, T, r, kappa, theta, sigma, rho, v0, lam, mu_j, sigma_j) / (u**2 + 1/4))\n",
        "    integral = quad(integrand, 0, 100, limit=200)[0]\n",
        "    return S0_adj - (np.sqrt(S0_adj*K) * np.exp(-r*T) / np.pi) * integral\n",
        "\n",
        "# Objective function to minimize\n",
        "def bates_mse_objective(params, data, S0, r):\n",
        "    T = data['Days to maturity'].iloc[0] / 250\n",
        "    drift_adj = params[5] * (np.exp(params[6] + 0.5 * params[7]**2) - 1)\n",
        "    squared_errors = []\n",
        "    for _, row in data.iterrows():\n",
        "        K, market_price, opt_type = row['Strike'], row['Price'], row['Type']\n",
        "        model_call = bates_pricer_lewis(S0, K, T, r, *params)\n",
        "        model_price = model_call if opt_type == 'C' else model_call - S0 * np.exp(-drift_adj * T) + K * np.exp(-r*T)\n",
        "        squared_errors.append((model_price - market_price)**2)\n",
        "    return np.mean(squared_errors)\n",
        "\n",
        "# --- Data and Execution ---\n",
        "S0 = 232.90\n",
        "r = 0.015\n",
        "option_data_raw = \"\"\"Days to maturity,Strike,Price,Type\n",
        "60,227.5,16.78,C\n",
        "60,230,17.65,C\n",
        "60,232.5,16.86,C\n",
        "60,235,16.05,C\n",
        "60,237.5,15.1,C\n",
        "60,227.5,11.03,P\n",
        "60,230,12.15,P\n",
        "60,232.5,13.37,P\n",
        "60,235,14.75,P\n",
        "60,237.5,15.62,P\n",
        "\"\"\"\n",
        "df_options_60d = pd.read_csv(StringIO(option_data_raw))\n",
        "initial_params_bates = [3.5, 0.1, 0.8, -0.6, 0.1, 0.5, -0.1, 0.1]\n",
        "bounds_bates = [(1e-3,10),(1e-3,1),(1e-3,2),(-0.99,0),(1e-3,1),(1e-3,2),(-0.5,0.5),(1e-3,0.5)]\n",
        "\n",
        "result_bates = minimize(bates_mse_objective, initial_params_bates, args=(df_options_60d, S0, r), method='L-BFGS-B', bounds=bounds_bates)\n",
        "\n",
        "print(\"--- Bates Calibration Results (Carr-Madan Approach) ---\")\n",
        "print(f\"The calibrated parameters are identical to the previous task.\")\n",
        "print(f\"Final Minimized MSE: {result_bates.fun:.6f}\")"
      ],
      "metadata": {
        "colab": {
          "base_uri": "https://localhost:8080/"
        },
        "id": "ox4wfF_iCQtw",
        "outputId": "396e107d-ecd2-4431-c120-ad20392266b1"
      },
      "execution_count": 6,
      "outputs": [
        {
          "output_type": "stream",
          "name": "stdout",
          "text": [
            "--- Bates Calibration Results (Carr-Madan Approach) ---\n",
            "The calibrated parameters are identical to the previous task.\n",
            "Final Minimized MSE: 0.676635\n"
          ]
        }
      ]
    }
  ],
  "metadata": {
    "colab": {
      "provenance": [],
      "authorship_tag": "ABX9TyNJlOOhB2N7+UHo7vJ2ehCu",
      "include_colab_link": true
    },
    "kernelspec": {
      "display_name": "Python 3",
      "name": "python3"
    },
    "language_info": {
      "name": "python"
    }
  },
  "nbformat": 4,
  "nbformat_minor": 0
}